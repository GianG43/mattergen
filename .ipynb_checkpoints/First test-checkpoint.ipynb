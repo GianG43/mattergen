{
 "cells": [
  {
   "cell_type": "code",
   "execution_count": 29,
   "id": "e1d02ad0-ba87-464e-a9d5-e5ffcd4a6e75",
   "metadata": {},
   "outputs": [],
   "source": [
    "a = 5 + 3"
   ]
  },
  {
   "cell_type": "code",
   "execution_count": 30,
   "id": "8738daaa-16be-4cdb-8cb6-f95c450b385f",
   "metadata": {},
   "outputs": [
    {
     "data": {
      "text/plain": [
       "8"
      ]
     },
     "execution_count": 30,
     "metadata": {},
     "output_type": "execute_result"
    }
   ],
   "source": [
    "a"
   ]
  },
  {
   "cell_type": "code",
   "execution_count": 2,
   "id": "9fc9d0b5-0943-43a3-9f16-3be60a94303b",
   "metadata": {},
   "outputs": [
    {
     "data": {
      "text/plain": [
       "15"
      ]
     },
     "execution_count": 2,
     "metadata": {},
     "output_type": "execute_result"
    }
   ],
   "source": [
    "a = 5*3\n",
    "a"
   ]
  },
  {
   "cell_type": "code",
   "execution_count": 3,
   "id": "883b46a6-0bcc-4b79-b0ae-c874bc13ee44",
   "metadata": {},
   "outputs": [
    {
     "data": {
      "text/plain": [
       "47"
      ]
     },
     "execution_count": 3,
     "metadata": {},
     "output_type": "execute_result"
    }
   ],
   "source": [
    "b = 2**5\n",
    "a + b"
   ]
  },
  {
   "cell_type": "code",
   "execution_count": 4,
   "id": "84d3d818-2234-46d5-9a00-29be43012fd5",
   "metadata": {},
   "outputs": [
    {
     "data": {
      "text/plain": [
       "'Hello'"
      ]
     },
     "execution_count": 4,
     "metadata": {},
     "output_type": "execute_result"
    }
   ],
   "source": [
    "'He' + 'llo'"
   ]
  },
  {
   "cell_type": "code",
   "execution_count": 5,
   "id": "3b9d7a0e-979a-47ad-80d2-651b99cff799",
   "metadata": {},
   "outputs": [
    {
     "data": {
      "text/plain": [
       "'HeHeHeHellollo'"
      ]
     },
     "execution_count": 5,
     "metadata": {},
     "output_type": "execute_result"
    }
   ],
   "source": [
    "c = 'He'\n",
    "d = 'llo'\n",
    "4*c + 2*d"
   ]
  },
  {
   "cell_type": "code",
   "execution_count": 13,
   "id": "6a109761-93cd-4db6-be23-78f7c64c65f8",
   "metadata": {},
   "outputs": [
    {
     "data": {
      "text/plain": [
       "'This is \\\\ line 1\\nThis is line 2\\nAnd this 3'"
      ]
     },
     "execution_count": 13,
     "metadata": {},
     "output_type": "execute_result"
    }
   ],
   "source": [
    "\"\"\"This is \\\\ line 1\n",
    "This is line 2\n",
    "And this 3\"\"\""
   ]
  },
  {
   "cell_type": "code",
   "execution_count": 18,
   "id": "54629db9-7e59-4209-ab9d-ad22b5340d45",
   "metadata": {},
   "outputs": [
    {
     "data": {
      "text/plain": [
       "'HELLO WORLD'"
      ]
     },
     "execution_count": 18,
     "metadata": {},
     "output_type": "execute_result"
    }
   ],
   "source": [
    "mystring = 'Hello World'\n",
    "mystring.upper()"
   ]
  },
  {
   "cell_type": "code",
   "execution_count": 22,
   "id": "3cd9d4ef-b0b7-4419-b26d-46f05f077eb0",
   "metadata": {},
   "outputs": [
    {
     "data": {
      "text/plain": [
       "'e'"
      ]
     },
     "execution_count": 22,
     "metadata": {},
     "output_type": "execute_result"
    }
   ],
   "source": [
    "string = 'Hello world what is going on?'\n",
    "string[1]"
   ]
  },
  {
   "cell_type": "code",
   "execution_count": 26,
   "id": "1f773462-d1ac-492b-b27d-3c4d0b6658fa",
   "metadata": {},
   "outputs": [
    {
     "data": {
      "text/plain": [
       "'Hello John what is going on?'"
      ]
     },
     "execution_count": 26,
     "metadata": {},
     "output_type": "execute_result"
    }
   ],
   "source": [
    "a = 'John'\n",
    "f'Hello {a} what is going on?'"
   ]
  },
  {
   "cell_type": "code",
   "execution_count": 29,
   "id": "695ccd85-e1b4-4935-b9d6-b94c15ee95f6",
   "metadata": {},
   "outputs": [
    {
     "ename": "NameError",
     "evalue": "name 'f' is not defined",
     "output_type": "error",
     "traceback": [
      "\u001b[31m---------------------------------------------------------------------------\u001b[39m",
      "\u001b[31mNameError\u001b[39m                                 Traceback (most recent call last)",
      "\u001b[36mCell\u001b[39m\u001b[36m \u001b[39m\u001b[32mIn[29]\u001b[39m\u001b[32m, line 3\u001b[39m\n\u001b[32m      1\u001b[39m a = \u001b[33m'\u001b[39m\u001b[33mJohn\u001b[39m\u001b[33m'\u001b[39m\n\u001b[32m      2\u001b[39m string = \u001b[33m'\u001b[39m\u001b[33mHello \u001b[39m\u001b[38;5;132;01m{a}\u001b[39;00m\u001b[33m what is going on?\u001b[39m\u001b[33m'\u001b[39m\n\u001b[32m----> \u001b[39m\u001b[32m3\u001b[39m \u001b[43mf\u001b[49m(string)\n",
      "\u001b[31mNameError\u001b[39m: name 'f' is not defined"
     ]
    }
   ],
   "source": [
    "a = 'John'\n",
    "string = 'Hello {a} what is going on?'\n",
    "fstring"
   ]
  },
  {
   "cell_type": "code",
   "execution_count": 37,
   "id": "7410938b-d39d-446b-bd68-da96ebcea2e0",
   "metadata": {},
   "outputs": [
    {
     "name": "stdout",
     "output_type": "stream",
     "text": [
      "No\n"
     ]
    }
   ],
   "source": [
    "a = False\n",
    "if a:\n",
    "    print('Hi')\n",
    "else: print('No')\n"
   ]
  },
  {
   "cell_type": "code",
   "execution_count": null,
   "id": "0fbe9046-b3cc-4e22-b206-3117a9d07706",
   "metadata": {},
   "outputs": [],
   "source": []
  }
 ],
 "metadata": {
  "kernelspec": {
   "display_name": "Python 3 (ipykernel)",
   "language": "python",
   "name": "python3"
  },
  "language_info": {
   "codemirror_mode": {
    "name": "ipython",
    "version": 3
   },
   "file_extension": ".py",
   "mimetype": "text/x-python",
   "name": "python",
   "nbconvert_exporter": "python",
   "pygments_lexer": "ipython3",
   "version": "3.12.3"
  }
 },
 "nbformat": 4,
 "nbformat_minor": 5
}
