{
 "cells": [
  {
   "cell_type": "code",
   "execution_count": 1,
   "id": "e1d02ad0-ba87-464e-a9d5-e5ffcd4a6e75",
   "metadata": {},
   "outputs": [],
   "source": [
    "a = 5 + 3"
   ]
  },
  {
   "cell_type": "code",
   "execution_count": 2,
   "id": "8738daaa-16be-4cdb-8cb6-f95c450b385f",
   "metadata": {},
   "outputs": [
    {
     "data": {
      "text/plain": [
       "8"
      ]
     },
     "execution_count": 2,
     "metadata": {},
     "output_type": "execute_result"
    }
   ],
   "source": [
    "a"
   ]
  },
  {
   "cell_type": "code",
   "execution_count": 3,
   "id": "9fc9d0b5-0943-43a3-9f16-3be60a94303b",
   "metadata": {},
   "outputs": [
    {
     "data": {
      "text/plain": [
       "15"
      ]
     },
     "execution_count": 3,
     "metadata": {},
     "output_type": "execute_result"
    }
   ],
   "source": [
    "a = 5*3\n",
    "a"
   ]
  },
  {
   "cell_type": "code",
   "execution_count": 4,
   "id": "883b46a6-0bcc-4b79-b0ae-c874bc13ee44",
   "metadata": {},
   "outputs": [
    {
     "data": {
      "text/plain": [
       "47"
      ]
     },
     "execution_count": 4,
     "metadata": {},
     "output_type": "execute_result"
    }
   ],
   "source": [
    "b = 2**5\n",
    "a + b"
   ]
  },
  {
   "cell_type": "code",
   "execution_count": 5,
   "id": "84d3d818-2234-46d5-9a00-29be43012fd5",
   "metadata": {},
   "outputs": [
    {
     "data": {
      "text/plain": [
       "'Hello'"
      ]
     },
     "execution_count": 5,
     "metadata": {},
     "output_type": "execute_result"
    }
   ],
   "source": [
    "'He' + 'llo'"
   ]
  },
  {
   "cell_type": "code",
   "execution_count": 6,
   "id": "3b9d7a0e-979a-47ad-80d2-651b99cff799",
   "metadata": {},
   "outputs": [
    {
     "data": {
      "text/plain": [
       "'HeHeHeHellollo'"
      ]
     },
     "execution_count": 6,
     "metadata": {},
     "output_type": "execute_result"
    }
   ],
   "source": [
    "c = 'He'\n",
    "d = 'llo'\n",
    "4*c + 2*d"
   ]
  },
  {
   "cell_type": "code",
   "execution_count": 7,
   "id": "6a109761-93cd-4db6-be23-78f7c64c65f8",
   "metadata": {},
   "outputs": [
    {
     "data": {
      "text/plain": [
       "'This is \\\\ line 1\\nThis is line 2\\nAnd this 3'"
      ]
     },
     "execution_count": 7,
     "metadata": {},
     "output_type": "execute_result"
    }
   ],
   "source": [
    "\"\"\"This is \\\\ line 1\n",
    "This is line 2\n",
    "And this 3\"\"\""
   ]
  },
  {
   "cell_type": "code",
   "execution_count": 8,
   "id": "54629db9-7e59-4209-ab9d-ad22b5340d45",
   "metadata": {},
   "outputs": [
    {
     "data": {
      "text/plain": [
       "'HELLO WORLD'"
      ]
     },
     "execution_count": 8,
     "metadata": {},
     "output_type": "execute_result"
    }
   ],
   "source": [
    "mystring = 'Hello World'\n",
    "mystring.upper()"
   ]
  },
  {
   "cell_type": "code",
   "execution_count": 9,
   "id": "3cd9d4ef-b0b7-4419-b26d-46f05f077eb0",
   "metadata": {},
   "outputs": [
    {
     "data": {
      "text/plain": [
       "'e'"
      ]
     },
     "execution_count": 9,
     "metadata": {},
     "output_type": "execute_result"
    }
   ],
   "source": [
    "string = 'Hello world what is going on?'\n",
    "string[1]"
   ]
  },
  {
   "cell_type": "code",
   "execution_count": 10,
   "id": "1f773462-d1ac-492b-b27d-3c4d0b6658fa",
   "metadata": {},
   "outputs": [
    {
     "data": {
      "text/plain": [
       "'Hello John what is going on?'"
      ]
     },
     "execution_count": 10,
     "metadata": {},
     "output_type": "execute_result"
    }
   ],
   "source": [
    "a = 'John'\n",
    "f'Hello {a} what is going on?'"
   ]
  },
  {
   "cell_type": "code",
   "execution_count": 11,
   "id": "695ccd85-e1b4-4935-b9d6-b94c15ee95f6",
   "metadata": {},
   "outputs": [],
   "source": [
    "a = 'John'\n",
    "string = 'Hello {a} what is going on?'"
   ]
  },
  {
   "cell_type": "code",
   "execution_count": 12,
   "id": "7410938b-d39d-446b-bd68-da96ebcea2e0",
   "metadata": {},
   "outputs": [
    {
     "name": "stdout",
     "output_type": "stream",
     "text": [
      "No\n"
     ]
    }
   ],
   "source": [
    "a = False\n",
    "if a:\n",
    "    print('Hi')\n",
    "else: print('No')\n"
   ]
  },
  {
   "cell_type": "code",
   "execution_count": 13,
   "id": "0fbe9046-b3cc-4e22-b206-3117a9d07706",
   "metadata": {},
   "outputs": [
    {
     "name": "stdout",
     "output_type": "stream",
     "text": [
      "AAA\n",
      "BBB\n",
      "CCC\n",
      "DDD\n",
      "EEE\n",
      "FFF\n",
      "GGG\n",
      "GGGABCDEFG\n"
     ]
    }
   ],
   "source": [
    "a = 'ABCDEFG'\n",
    "for b in a:\n",
    "    c = 3*b\n",
    "    print(c)\n",
    "\n",
    "d = 3*b+a\n",
    "print(d)"
   ]
  },
  {
   "cell_type": "code",
   "execution_count": 14,
   "id": "36b62104-fac1-4e91-a987-6ba9f538d939",
   "metadata": {},
   "outputs": [
    {
     "name": "stdout",
     "output_type": "stream",
     "text": [
      "CO\n",
      "CO2\n",
      "CH4\n",
      "H2\n",
      "Ar\n",
      "[28, 44, 16, 2, 40]\n",
      "False\n",
      "3\n",
      "Hi\n",
      "H2\n"
     ]
    }
   ],
   "source": [
    "list = ['CO', 'CO2', 'CH4', 'H2', 'Ar', [28, 44, 16, 2, 40], False, 3, 'Hi']\n",
    "for c in list:\n",
    "    print(c)\n",
    "\n",
    "print(list[3])"
   ]
  },
  {
   "cell_type": "code",
   "execution_count": 15,
   "id": "7ca9e486-f9ac-44ff-a7fa-b41c2ef2adc6",
   "metadata": {},
   "outputs": [
    {
     "name": "stdout",
     "output_type": "stream",
     "text": [
      "I need money !\n"
     ]
    }
   ],
   "source": [
    "def need(who, what):\n",
    "    if who in ('I', 'i', 'You', 'you'):\n",
    "        print(who, \"need\", what, \"!\")\n",
    "    else:\n",
    "        print(who, \"needs\", what, \"!\")\n",
    "\n",
    "need('I', 'money')"
   ]
  },
  {
   "cell_type": "code",
   "execution_count": 16,
   "id": "a2708cdc-1f91-40e4-9aec-8808847eb528",
   "metadata": {},
   "outputs": [
    {
     "data": {
      "text/plain": [
       "6"
      ]
     },
     "execution_count": 16,
     "metadata": {},
     "output_type": "execute_result"
    }
   ],
   "source": [
    "def add(a, b):\n",
    "    return a + b\n",
    "    return 3\n",
    "\n",
    "add(4,2)"
   ]
  },
  {
   "cell_type": "code",
   "execution_count": 17,
   "id": "e82d9d4d-097c-4e19-8ddd-ea7c4370e6e3",
   "metadata": {},
   "outputs": [
    {
     "name": "stdout",
     "output_type": "stream",
     "text": [
      "Hi Gian\n",
      "Hi Learner\n"
     ]
    }
   ],
   "source": [
    "def hi(name=\"Learner\"):\n",
    "    print('Hi', name)\n",
    "\n",
    "hi('Gian')\n",
    "hi()"
   ]
  },
  {
   "cell_type": "code",
   "execution_count": 18,
   "id": "2a261462-4860-46e7-9d97-d0447c0a084d",
   "metadata": {},
   "outputs": [
    {
     "name": "stdin",
     "output_type": "stream",
     "text": [
      "Your name:  Gian\n"
     ]
    },
    {
     "name": "stdout",
     "output_type": "stream",
     "text": [
      "Hi there...\n",
      "G\n",
      "i\n",
      "a\n",
      "n\n"
     ]
    }
   ],
   "source": [
    "def say_hi(name):\n",
    "    if name == '':\n",
    "        print(\"You didn't enter your name!\")\n",
    "    else:\n",
    "        print(\"Hi there...\")\n",
    "        for letter in name:\n",
    "            print(letter)\n",
    "\n",
    "name = input(\"Your name: \")\n",
    "say_hi(name)"
   ]
  },
  {
   "cell_type": "code",
   "execution_count": 19,
   "id": "3e97e78c-bcc8-496e-baad-c2d8cd07d410",
   "metadata": {},
   "outputs": [
    {
     "name": "stdin",
     "output_type": "stream",
     "text": [
      "Your name:  Noemi\n"
     ]
    },
    {
     "name": "stdout",
     "output_type": "stream",
     "text": [
      "Noemi\n"
     ]
    }
   ],
   "source": [
    "name = input(\"Your name: \")\n",
    "print(name)"
   ]
  },
  {
   "cell_type": "code",
   "execution_count": null,
   "id": "ed09a20a-41cb-4bed-9256-b01dc58ae437",
   "metadata": {},
   "outputs": [
    {
     "name": "stdin",
     "output_type": "stream",
     "text": [
      "Your name:  Harald\n"
     ]
    },
    {
     "name": "stdout",
     "output_type": "stream",
     "text": [
      "Hello Harald\n"
     ]
    },
    {
     "name": "stdin",
     "output_type": "stream",
     "text": [
      "Your name:  \n"
     ]
    },
    {
     "name": "stdout",
     "output_type": "stream",
     "text": [
      "Hello \n"
     ]
    }
   ],
   "source": [
    "def say_hi(name=\"\"):\n",
    "    print(\"Hello\", name)\n",
    "\n",
    "while True:\n",
    "    name = input(\"Your name: \")\n",
    "    say_hi(name)"
   ]
  },
  {
   "cell_type": "code",
   "execution_count": null,
   "id": "144e160c-1983-4794-918f-13f9737a8472",
   "metadata": {},
   "outputs": [],
   "source": []
  }
 ],
 "metadata": {
  "kernelspec": {
   "display_name": "Python 3 (ipykernel)",
   "language": "python",
   "name": "python3"
  },
  "language_info": {
   "codemirror_mode": {
    "name": "ipython",
    "version": 3
   },
   "file_extension": ".py",
   "mimetype": "text/x-python",
   "name": "python",
   "nbconvert_exporter": "python",
   "pygments_lexer": "ipython3",
   "version": "3.12.3"
  }
 },
 "nbformat": 4,
 "nbformat_minor": 5
}
