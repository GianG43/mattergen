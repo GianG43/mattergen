{
 "cells": [
  {
   "cell_type": "code",
   "execution_count": null,
   "id": "05f8a279-b7ef-42c8-8ff7-69d46021b883",
   "metadata": {},
   "outputs": [
    {
     "name": "stdout",
     "output_type": "stream",
     "text": [
      "Hello Gian\n",
      "Hello Nova\n",
      "Hello Boa\n",
      "Hello D\n"
     ]
    }
   ],
   "source": [
    "def say_hi(name=\"\"):\n",
    "    print(\"Hello\", name)\n",
    "\n",
    "while True:\n",
    "    name = input(\"Your name: \")\n",
    "    if name in (\"Stop\", \"stop\", \"Exit\", \"exit\"):\n",
    "        print(\"Goodbye! Have a nice day!\")\n",
    "        break\n",
    "    say_hi(name)"
   ]
  },
  {
   "cell_type": "code",
   "execution_count": 4,
   "id": "7a95a886-2c95-4553-a884-78aa2c155681",
   "metadata": {},
   "outputs": [
    {
     "ename": "SyntaxError",
     "evalue": "'(' was never closed (1117958659.py, line 11)",
     "output_type": "error",
     "traceback": [
      "  \u001b[36mCell\u001b[39m\u001b[36m \u001b[39m\u001b[32mIn[4]\u001b[39m\u001b[32m, line 11\u001b[39m\n\u001b[31m    \u001b[39m\u001b[31mprint(f\"The square of {x} is {x2}.\"\u001b[39m\n         ^\n\u001b[31mSyntaxError\u001b[39m\u001b[31m:\u001b[39m '(' was never closed\n"
     ]
    }
   ],
   "source": [
    "def square(x):\n",
    "    return x * x\n",
    "\n",
    "while True:\n",
    "    x = input(\"Enter a number to square (or type 'Stop' to exit): \")\n",
    "    if x in (\"Stop\", \"stop\", \"Exit\", \"exit\"):\n",
    "        print(\"Goodbye! Have a nice day!\")\n",
    "        break\n",
    "    try:\n",
    "        x2 = square(x)\n",
    "        print(f\"The square of {x} is {x2}.\"\n",
    "    except:\n",
    "        print(\"Please enter a valid number.\")\n"
   ]
  }
 ],
 "metadata": {
  "kernelspec": {
   "display_name": ".venv",
   "language": "python",
   "name": "python3"
  },
  "language_info": {
   "codemirror_mode": {
    "name": "ipython",
    "version": 3
   },
   "file_extension": ".py",
   "mimetype": "text/x-python",
   "name": "python",
   "nbconvert_exporter": "python",
   "pygments_lexer": "ipython3",
   "version": "3.12.3"
  }
 },
 "nbformat": 4,
 "nbformat_minor": 5
}
