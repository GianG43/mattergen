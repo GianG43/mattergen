{
 "cells": [
  {
   "cell_type": "code",
   "execution_count": null,
   "id": "05f8a279-b7ef-42c8-8ff7-69d46021b883",
   "metadata": {},
   "outputs": [
    {
     "name": "stdout",
     "output_type": "stream",
     "text": [
      "Hello Gian\n",
      "Hello Nova\n",
      "Hello Boa\n",
      "Hello D\n"
     ]
    }
   ],
   "source": [
    "def say_hi(name=\"\"):\n",
    "    print(\"Hello\", name)\n",
    "\n",
    "while True:\n",
    "    name = input(\"Your name: \")\n",
    "    if name in (\"Stop\", \"stop\", \"Exit\", \"exit\"):\n",
    "        print(\"Goodbye! Have a nice day!\")\n",
    "        break\n",
    "    say_hi(name)"
   ]
  },
  {
   "cell_type": "code",
   "execution_count": null,
   "id": "7a95a886-2c95-4553-a884-78aa2c155681",
   "metadata": {},
   "outputs": [],
   "source": []
  }
 ],
 "metadata": {
  "kernelspec": {
   "display_name": ".venv",
   "language": "python",
   "name": "python3"
  },
  "language_info": {
   "codemirror_mode": {
    "name": "ipython",
    "version": 3
   },
   "file_extension": ".py",
   "mimetype": "text/x-python",
   "name": "python",
   "nbconvert_exporter": "python",
   "pygments_lexer": "ipython3",
   "version": "3.12.3"
  }
 },
 "nbformat": 4,
 "nbformat_minor": 5
}
